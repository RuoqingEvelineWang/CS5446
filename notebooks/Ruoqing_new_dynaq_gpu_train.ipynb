{
  "nbformat": 4,
  "nbformat_minor": 0,
  "metadata": {
    "colab": {
      "provenance": []
    },
    "kernelspec": {
      "name": "python3",
      "display_name": "Python 3"
    },
    "language_info": {
      "name": "python"
    }
  },
  "cells": [
    {
      "cell_type": "code",
      "execution_count": null,
      "metadata": {
        "colab": {
          "base_uri": "https://localhost:8080/"
        },
        "id": "S9QcehTViO1-",
        "outputId": "e3480813-3238-4e93-d459-274d1c3fe601"
      },
      "outputs": [
        {
          "output_type": "stream",
          "name": "stdout",
          "text": [
            "Mounted at /content/drive\n"
          ]
        }
      ],
      "source": [
        "from google.colab import drive\n",
        "drive.mount('/content/drive')"
      ]
    },
    {
      "cell_type": "code",
      "source": [
        "import pandas as pd\n",
        "import numpy as np\n",
        "\n",
        "df = pd.read_csv('binned_df.csv')\n",
        "seed = 42\n",
        "np.random.seed(seed)\n",
        "train_ratio = 0.8\n",
        "num_patients = df['PatientID'].nunique()\n",
        "num_train_samples = int(num_patients * train_ratio)\n",
        "train_ids = np.random.choice(num_patients, num_train_samples, replace=False)\n",
        "train_df = df[df[\"PatientID\"].isin(train_ids)].reset_index(drop=True)\n",
        "test_df = df[~df[\"PatientID\"].isin(train_ids)].reset_index(drop=True)\n",
        "print(f'Train Data: {train_df.shape}')\n",
        "print(f'Test Data: {test_df.shape}')"
      ],
      "metadata": {
        "colab": {
          "base_uri": "https://localhost:8080/"
        },
        "id": "NavInFH1igi8",
        "outputId": "484e9784-648c-4c1c-8a81-dfa080a5a0dd"
      },
      "execution_count": null,
      "outputs": [
        {
          "output_type": "stream",
          "name": "stdout",
          "text": [
            "Train Data: (150144, 15)\n",
            "Test Data: (37536, 15)\n"
          ]
        }
      ]
    },
    {
      "cell_type": "code",
      "source": [
        "\n",
        "state_columns = ['MAP', 'diastolic_bp', 'systolic_bp', 'urine', 'ALT', 'AST', 'lactic_acid', 'serum_creatinine', 'p_f_ratio', 'GCS_total']\n",
        "action_columns = ['fluid_boluses', 'vasopressors']\n",
        "\n",
        "def calculate_reward(cur_SOFA, next_SOFA, cur_MAP, next_MAP):\n",
        "    reward = 0\n",
        "    c0 = -0.025\n",
        "    c1 = -0.125\n",
        "    c2 = 0.4\n",
        "    map_reward = 0\n",
        "    if cur_SOFA == next_SOFA and next_SOFA > 0:\n",
        "        reward += c0\n",
        "    if cur_MAP == 3 and next_MAP == 3: #MAP stays at normal level\n",
        "        map_reward = 0\n",
        "    elif cur_MAP == next_MAP: #MAP stays at low level\n",
        "        map_reward = (-3 + cur_MAP) * 0.5\n",
        "    elif cur_MAP > next_MAP: #MAP deteriorates\n",
        "        map_reward = (next_MAP - cur_MAP) * (4 - cur_MAP) * 0.8\n",
        "    elif cur_MAP < next_MAP: #MAP improves\n",
        "        map_reward = next_MAP - cur_MAP\n",
        "    return reward + c1 * (next_SOFA - cur_SOFA) + c2 * map_reward\n",
        "\n",
        "def calculate_sofa_score(MAP, dbp, sbp, urine, ALT, AST, lactic_acid, serum_creatinine, p_f_ratio, GCS_total):\n",
        "    cardiovascular_score = 0\n",
        "    if MAP < 3:\n",
        "        cardiovascular_score = 1\n",
        "\n",
        "    respitory_score = 0\n",
        "    if p_f_ratio == 0:\n",
        "        respitory_score = 4\n",
        "    elif p_f_ratio == 1:\n",
        "        respitory_score = 3\n",
        "    elif p_f_ratio == 2:\n",
        "        respitory_score = 2\n",
        "    else:\n",
        "        respitory_score = 1\n",
        "\n",
        "    renal_score = serum_creatinine\n",
        "\n",
        "    if urine == 1:\n",
        "        renal_score = max(renal_score, 3)\n",
        "    if urine == 0:\n",
        "        renal_score = max(renal_score, 4)\n",
        "\n",
        "    liver_score = 0\n",
        "    if (ALT > 0 and AST > 0):\n",
        "        liver_score = 1\n",
        "    if (ALT > 1 or AST > 1):\n",
        "        liver_score = 2\n",
        "    if (ALT > 2 or AST > 2):\n",
        "        liver_score = 3\n",
        "\n",
        "    neuro_score = 0\n",
        "    if GCS_total == 0:\n",
        "        neuro_score = 4\n",
        "    elif GCS_total == 1:\n",
        "        neuro_score = 3\n",
        "    elif GCS_total  == 2:\n",
        "        neuro_score = 2\n",
        "    elif GCS_total == 3:\n",
        "        neuro_score = 1\n",
        "\n",
        "    lactic_acid_score = 0\n",
        "    if lactic_acid > 0:\n",
        "        lactic_acid_score = 2\n",
        "\n",
        "    return cardiovascular_score + respitory_score + renal_score + liver_score + neuro_score + lactic_acid_score\n"
      ],
      "metadata": {
        "id": "gqAg6Kzti74G"
      },
      "execution_count": null,
      "outputs": []
    },
    {
      "cell_type": "code",
      "source": [
        "import torch\n",
        "import torch.nn as nn\n",
        "from sklearn.neighbors import KNeighborsClassifier\n",
        "from sklearn.model_selection import train_test_split\n",
        "from sklearn.metrics import accuracy_score\n",
        "import random\n",
        "\n",
        "def create_transitions(df):\n",
        "    df_size = len(df) / 48 * 47\n",
        "    print(df_size)\n",
        "    print(type(df_size))\n",
        "    state_cols = [f\"state_{i}\" for i in range(len(state_columns + action_columns))]\n",
        "    X = torch.zeros((int(df_size), len(state_columns) + len(action_columns)), device=\"cuda\")\n",
        "    y = torch.zeros((int(df_size), len(state_columns)), device=\"cuda\")\n",
        "    i = 0\n",
        "    for patient in df['PatientID'].unique():\n",
        "        patient_records = df[df['PatientID'] == patient].reset_index(drop=True)\n",
        "        for t in range(len(patient_records) - 1):\n",
        "            current_state = torch.tensor(patient_records.iloc[t][state_columns + action_columns].values, device=\"cuda\")\n",
        "            next_state = torch.tensor(patient_records.iloc[t + 1][state_columns].values, device=\"cuda\")\n",
        "            X[i] = current_state\n",
        "            y[i] = next_state\n",
        "            i+=1\n",
        "    return pd.DataFrame(X.cpu().numpy(), columns=state_columns + action_columns), pd.DataFrame(y.cpu().numpy(), columns=state_columns)\n",
        "\n",
        "X, y = create_transitions(train_df)\n",
        "\n",
        "knn_models = {col: KNeighborsClassifier(n_neighbors=20) for col in state_columns}\n",
        "for col in state_columns:\n",
        "    knn_models[col].fit(X, y[col])\n",
        "\n"
      ],
      "metadata": {
        "colab": {
          "base_uri": "https://localhost:8080/"
        },
        "id": "Zz0msMxpjODF",
        "outputId": "e42a8c42-9614-4758-ad42-18da48c2776a"
      },
      "execution_count": null,
      "outputs": [
        {
          "output_type": "stream",
          "name": "stdout",
          "text": [
            "147016.0\n",
            "<class 'float'>\n"
          ]
        }
      ]
    },
    {
      "cell_type": "code",
      "source": [
        "train_df_sorted1 = train_df.sort_values(by=state_columns, ascending=True)\n",
        "state_dict = {tuple(row): idx for idx, row in enumerate(train_df_sorted1[state_columns].drop_duplicates().values)}\n",
        "train_df_sorted2 = train_df.sort_values(by=state_columns, ascending=True)\n",
        "action_dict = {tuple(row): idx for idx, row in enumerate(train_df_sorted2[action_columns].drop_duplicates().values)}\n",
        "inverse_state_dict = {v: k for k, v in state_dict.items()}\n",
        "inverse_action_dict = {v: k for k, v in action_dict.items()}\n"
      ],
      "metadata": {
        "id": "Py5vuCr9jg7A"
      },
      "execution_count": null,
      "outputs": []
    },
    {
      "cell_type": "code",
      "source": [
        "state_action_dict = {}\n",
        "for _, row in X[state_columns + action_columns].drop_duplicates().iterrows():\n",
        "    state_tuple = tuple(row[state_columns].values)\n",
        "    state_idx = state_dict[state_tuple]\n",
        "    if state_idx not in state_action_dict:\n",
        "        state_action_dict[state_idx] = []\n",
        "    action_tuple = tuple(row[action_columns].values)\n",
        "    action_idx = action_dict[action_tuple]\n",
        "    if action_idx not in state_action_dict[state_idx]:\n",
        "        state_action_dict[state_idx].append(action_idx)"
      ],
      "metadata": {
        "id": "qw1bIK_5kuJi"
      },
      "execution_count": null,
      "outputs": []
    },
    {
      "cell_type": "code",
      "source": [
        "def find_closest_index(input_tuple):\n",
        "    closest_index = None\n",
        "    min_distance = float('inf')\n",
        "\n",
        "    for value, index in state_dict.items():\n",
        "        distance = np.linalg.norm(np.array(value) - np.array(input_tuple))\n",
        "\n",
        "        if distance < min_distance:\n",
        "            min_distance = distance\n",
        "            closest_index = index\n",
        "\n",
        "    return closest_index"
      ],
      "metadata": {
        "id": "esPv08nonGWS"
      },
      "execution_count": null,
      "outputs": []
    },
    {
      "cell_type": "code",
      "source": [
        "q_table = torch.zeros((len(state_dict), len(action_dict)), device=\"cuda\")\n",
        "alpha = 0.1\n",
        "gamma = 0.99"
      ],
      "metadata": {
        "id": "iDFcHdtXm-2F"
      },
      "execution_count": null,
      "outputs": []
    },
    {
      "cell_type": "code",
      "source": [
        "diffs=[]"
      ],
      "metadata": {
        "id": "JWFncXknpVxc"
      },
      "execution_count": null,
      "outputs": []
    },
    {
      "cell_type": "code",
      "source": [
        "def dyna_q_train(train_df, num_iterations, num_simulations):\n",
        "    global q_table\n",
        "    for iteration in range(num_iterations):\n",
        "        q_backup = q_table.clone()\n",
        "        for patient in train_df['PatientID'].unique():\n",
        "            patient_records = train_df[train_df['PatientID'] == patient].reset_index(drop=True)\n",
        "            for t in range(len(patient_records) - 1):\n",
        "                current_row = torch.tensor(patient_records.iloc[t][state_columns].values, device=\"cuda\")\n",
        "                next_row = torch.tensor(patient_records.iloc[t + 1][state_columns].values, device=\"cuda\")\n",
        "                action = torch.tensor(patient_records.iloc[t][action_columns].values, device=\"cuda\")\n",
        "\n",
        "                current_state_index = state_dict[tuple(current_row.cpu().numpy())]\n",
        "                action_index = action_dict[tuple(action.cpu().numpy())]\n",
        "\n",
        "                reward = calculate_reward(\n",
        "                    calculate_sofa_score(*current_row),\n",
        "                    calculate_sofa_score(*next_row),\n",
        "                    current_row[0],\n",
        "                    next_row[0]\n",
        "                )\n",
        "\n",
        "                next_state_index = state_dict[tuple(next_row.cpu().numpy())]\n",
        "                best_next_q = torch.max(q_table[next_state_index])\n",
        "\n",
        "                q_table[current_state_index, action_index] += alpha * (\n",
        "                    reward + gamma * best_next_q - q_table[current_state_index, action_index])\n",
        "\n",
        "                for _ in range(num_simulations):\n",
        "                    sim_state_index = random.choice(list(state_action_dict.keys()))\n",
        "                    sim_action_index = random.choice(state_action_dict[sim_state_index])\n",
        "\n",
        "                    sim_state = torch.tensor(inverse_state_dict[sim_state_index], device=\"cuda\")\n",
        "                    sim_action = torch.tensor(inverse_action_dict[sim_action_index], device=\"cuda\")\n",
        "\n",
        "                    sim_next_state = []\n",
        "                    for col in state_columns:\n",
        "                        sim_next_state.append(knn_models[col].predict(\n",
        "                            pd.concat([pd.Series(sim_state.cpu().numpy(), index=state_columns),\n",
        "                                       pd.Series(sim_action.cpu().numpy(), index=action_columns)], axis=0)\n",
        "                            .to_frame().T).item())\n",
        "\n",
        "                    sim_next_state = torch.tensor(sim_next_state, device=\"cuda\")\n",
        "                    sim_reward = calculate_reward(\n",
        "                        calculate_sofa_score(*sim_state),\n",
        "                        calculate_sofa_score(*sim_next_state),\n",
        "                        sim_state[0],\n",
        "                        sim_next_state[0]\n",
        "                    )\n",
        "\n",
        "                    sim_next_state_tuple = tuple(sim_next_state.cpu().numpy())\n",
        "                    if sim_next_state_tuple in state_dict:\n",
        "                        sim_next_state_index = state_dict[sim_next_state_tuple]\n",
        "                    else:\n",
        "                        sim_next_state_index = find_closest_index(sim_next_state_tuple)\n",
        "\n",
        "                    best_sim_next_q = torch.max(q_table[sim_next_state_index])\n",
        "\n",
        "                    q_table[sim_state_index, sim_action_index] += alpha * (\n",
        "                        sim_reward + gamma * best_sim_next_q - q_table[sim_state_index, sim_action_index])\n",
        "\n",
        "        diff = torch.mean(torch.abs(q_table - q_backup))\n",
        "        diffs.append(diff.item())\n",
        "        print(f\"Q-table difference after iteration {iteration + 1}: {diff.item()}\")\n",
        "\n",
        "\n",
        "\n",
        "    return q_table"
      ],
      "metadata": {
        "id": "0FkOgbP3nT08"
      },
      "execution_count": null,
      "outputs": []
    },
    {
      "cell_type": "code",
      "source": [
        "import matplotlib.pyplot as plt\n",
        "q_table = dyna_q_train(train_df, num_iterations=10, num_simulations=1)"
      ],
      "metadata": {
        "id": "wqvvcdgnncP7"
      },
      "execution_count": null,
      "outputs": []
    },
    {
      "cell_type": "code",
      "source": [
        "q_table_df = pd.DataFrame(q_table.cpu().numpy())\n",
        "q_table_df.to_csv(\"q_table1.csv\")"
      ],
      "metadata": {
        "id": "S14D4GzZu2_U"
      },
      "execution_count": null,
      "outputs": []
    },
    {
      "cell_type": "code",
      "source": [
        "plt.plot(diffs)\n",
        "plt.show()"
      ],
      "metadata": {
        "colab": {
          "base_uri": "https://localhost:8080/",
          "height": 430
        },
        "id": "RsPQ4NQJwjIU",
        "outputId": "e702bdfd-580f-4ba3-ced3-c9a767bb15bd"
      },
      "execution_count": null,
      "outputs": [
        {
          "output_type": "display_data",
          "data": {
            "text/plain": [
              "<Figure size 640x480 with 1 Axes>"
            ],
            "image/png": "[encoded data removed]"
          },
          "metadata": {}
        }
      ]
    },
    {
      "cell_type": "code",
      "source": [
        "print(diffs)"
      ],
      "metadata": {
        "colab": {
          "base_uri": "https://localhost:8080/"
        },
        "id": "oLQ7M32Syf_y",
        "outputId": "144b8365-c86c-45a9-8d3a-1dcc771c7d3a"
      },
      "execution_count": null,
      "outputs": [
        {
          "output_type": "stream",
          "name": "stdout",
          "text": [
            "[0.0024604781065136194, 0.002125852508470416, 0.0019443982746452093, 0.0018121874891221523, 0.0017336916644126177, 0.0016273751389235258, 0.0015679321950301528, 0.0015179699985310435, 0.0014653161633759737, 0.0014322529314085841]\n"
          ]
        }
      ]
    },
    {
      "cell_type": "code",
      "source": [
        "diffs=[]"
      ],
      "metadata": {
        "id": "KYqDMhaGyhyL"
      },
      "execution_count": null,
      "outputs": []
    },
    {
      "cell_type": "code",
      "source": [
        "q_table = dyna_q_train(train_df, num_iterations=10, num_simulations=3)"
      ],
      "metadata": {
        "colab": {
          "base_uri": "https://localhost:8080/"
        },
        "id": "j01KMJjVyZFh",
        "outputId": "93efcf1d-30d4-42bc-e2b1-e360923008c8"
      },
      "execution_count": null,
      "outputs": [
        {
          "output_type": "stream",
          "name": "stdout",
          "text": [
            "Iteration 1/10\n",
            "0\n",
            "10\n",
            "20\n",
            "30\n",
            "40\n",
            "50\n",
            "60\n",
            "70\n",
            "80\n",
            "90\n",
            "Q-table difference after iteration 1: 0.00535089336335659\n",
            "Iteration 2/10\n",
            "0\n",
            "10\n",
            "20\n",
            "30\n",
            "40\n",
            "50\n",
            "60\n",
            "70\n",
            "80\n",
            "90\n",
            "Q-table difference after iteration 2: 0.004617869853973389\n",
            "Iteration 3/10\n",
            "0\n",
            "10\n",
            "20\n",
            "30\n",
            "40\n",
            "50\n",
            "60\n",
            "70\n",
            "80\n",
            "90\n",
            "Q-table difference after iteration 3: 0.0040853326208889484\n",
            "Iteration 4/10\n",
            "0\n",
            "10\n",
            "20\n",
            "30\n",
            "40\n",
            "50\n",
            "60\n",
            "70\n",
            "80\n",
            "90\n",
            "Q-table difference after iteration 4: 0.0036815544590353966\n",
            "Iteration 5/10\n",
            "0\n",
            "10\n",
            "20\n",
            "30\n",
            "40\n",
            "50\n",
            "60\n",
            "70\n",
            "80\n",
            "90\n",
            "Q-table difference after iteration 5: 0.003362438175827265\n",
            "Iteration 6/10\n",
            "0\n",
            "10\n",
            "20\n",
            "30\n",
            "40\n",
            "50\n",
            "60\n",
            "70\n",
            "80\n",
            "90\n",
            "Q-table difference after iteration 6: 0.0030800814274698496\n",
            "Iteration 7/10\n",
            "0\n",
            "10\n",
            "20\n",
            "30\n",
            "40\n",
            "50\n",
            "60\n",
            "70\n",
            "80\n",
            "90\n",
            "Q-table difference after iteration 7: 0.0028842459432780743\n",
            "Iteration 8/10\n",
            "0\n",
            "10\n",
            "20\n",
            "30\n",
            "40\n",
            "50\n",
            "60\n",
            "70\n",
            "80\n",
            "90\n",
            "Q-table difference after iteration 8: 0.002626964822411537\n",
            "Iteration 9/10\n",
            "0\n",
            "10\n",
            "20\n",
            "30\n",
            "40\n",
            "50\n",
            "60\n",
            "70\n",
            "80\n",
            "90\n",
            "Q-table difference after iteration 9: 0.002423664787784219\n",
            "Iteration 10/10\n",
            "0\n",
            "10\n",
            "20\n",
            "30\n",
            "40\n",
            "50\n",
            "60\n",
            "70\n",
            "80\n",
            "90\n",
            "Q-table difference after iteration 10: 0.0023028103169053793\n"
          ]
        }
      ]
    },
    {
      "cell_type": "code",
      "source": [
        "q_table_df = pd.DataFrame(q_table.cpu().numpy())\n",
        "q_table_df.to_csv(\"q_table2.csv\")"
      ],
      "metadata": {
        "id": "_mqL2G5gJeK3"
      },
      "execution_count": null,
      "outputs": []
    }
  ]
}