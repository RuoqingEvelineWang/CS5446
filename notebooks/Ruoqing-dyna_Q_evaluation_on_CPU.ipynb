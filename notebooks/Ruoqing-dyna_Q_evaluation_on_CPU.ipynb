{
 "cells": [
  {
   "cell_type": "code",
   "execution_count": null,
   "metadata": {
    "colab": {
     "base_uri": "https://localhost:8080/"
    },
    "id": "XMrVVt0b7APv",
    "outputId": "00e1cc43-2817-4ccf-872e-7bfce5e1f5a0"
   },
   "outputs": [
    {
     "name": "stdout",
     "output_type": "stream",
     "text": [
      "Mounted at /content/drive\n"
     ]
    }
   ],
   "source": [
    "from google.colab import drive\n",
    "drive.mount('/content/drive')"
   ]
  },
  {
   "cell_type": "code",
   "execution_count": null,
   "metadata": {
    "id": "XxtPuXQn-E6p"
   },
   "outputs": [],
   "source": [
    "import pandas as pd\n",
    "import numpy as np\n",
    "from sklearn.neighbors import KNeighborsClassifier\n",
    "from sklearn.model_selection import train_test_split\n",
    "from sklearn.metrics import accuracy_score\n",
    "import random"
   ]
  },
  {
   "cell_type": "code",
   "execution_count": null,
   "metadata": {
    "colab": {
     "base_uri": "https://localhost:8080/"
    },
    "id": "m6NwD6wu9u9r",
    "outputId": "3ee28cfe-3150-4523-8344-51c7da89d54e"
   },
   "outputs": [
    {
     "name": "stdout",
     "output_type": "stream",
     "text": [
      "Train Data: (150144, 15)\n",
      "Test Data: (37536, 15)\n"
     ]
    }
   ],
   "source": [
    "df = pd.read_csv('binned_df.csv')\n",
    "seed = 42\n",
    "np.random.seed(seed)\n",
    "train_ratio = 0.8\n",
    "num_patients = df['PatientID'].nunique()\n",
    "num_train_samples = int(num_patients * train_ratio)\n",
    "train_ids = np.random.choice(num_patients, num_train_samples, replace=False)\n",
    "train_df = df[df[\"PatientID\"].isin(train_ids)].reset_index(drop=True)\n",
    "test_df = df[~df[\"PatientID\"].isin(train_ids)].reset_index(drop=True)\n",
    "print(f'Train Data: {train_df.shape}')\n",
    "print(f'Test Data: {test_df.shape}')"
   ]
  },
  {
   "cell_type": "code",
   "execution_count": null,
   "metadata": {
    "colab": {
     "base_uri": "https://localhost:8080/"
    },
    "id": "d6KbVp0I-lzD",
    "outputId": "f568f57e-ed44-449e-c412-d2afdfeeb45b"
   },
   "outputs": [],
   "source": [
    "from ast import literal_eval\n",
    "state_dict_df = pd.read_csv('state_dict.csv', header=None)\n",
    "keys = state_dict_df.iloc[0].tolist()\n",
    "values = state_dict_df.iloc[1].tolist()\n",
    "state_dict = {tuple(literal_eval(key)): int(value) for key, value in zip(keys, values)}\n",
    "print(state_dict)\n",
    "action_dict = {(0, 0): 0, (0, 2): 1, (0, 3): 2, (0, 1): 3, (3, 0): 4, (2, 1): 5, (2, 0): 6, (3, 1): 7, (1, 0): 8, (1, 2): 9, (3, 3): 10, (2, 3): 11, (1, 1): 12, (3, 2): 13, (2, 2): 14, (1, 3): 15}\n",
    "print(action_dict)"
   ]
  },
  {
   "cell_type": "code",
   "execution_count": null,
   "metadata": {
    "id": "uJmXc0A27P0C"
   },
   "outputs": [],
   "source": [
    "alpha = 0.1\n",
    "gamma = 0.99\n",
    "num_simulations = 2\n",
    "num_iterations = 10\n",
    "\n",
    "state_columns = ['MAP', 'diastolic_bp', 'systolic_bp', 'urine', 'ALT', 'AST', 'lactic_acid', 'serum_creatinine', 'p_f_ratio', 'GCS_total']\n",
    "action_columns = ['fluid_boluses', 'vasopressors']\n",
    "\n",
    "def calculate_reward(cur_SOFA, next_SOFA, cur_MAP, next_MAP):\n",
    "    reward = 0\n",
    "    c0 = -0.025\n",
    "    c1 = -0.125\n",
    "    c2 = 0.4\n",
    "    map_reward = 0\n",
    "    if cur_SOFA == next_SOFA and next_SOFA > 0:\n",
    "        reward += c0\n",
    "    if cur_MAP == 3 and next_MAP == 3: #MAP stays at normal level\n",
    "        map_reward = 0\n",
    "    elif cur_MAP == next_MAP: #MAP stays at low level\n",
    "        map_reward = (-3 + cur_MAP) * 0.5\n",
    "    elif cur_MAP > next_MAP: #MAP deteriorates\n",
    "        map_reward = (next_MAP - cur_MAP) * (4 - cur_MAP) * 0.8\n",
    "    elif cur_MAP < next_MAP: #MAP improves\n",
    "        map_reward = next_MAP - cur_MAP\n",
    "    return reward + c1 * (next_SOFA - cur_SOFA) + c2 * map_reward\n",
    "\n",
    "def calculate_sofa_score(MAP, dbp, sbp, urine, ALT, AST, lactic_acid, serum_creatinine, p_f_ratio, GCS_total):\n",
    "    cardiovascular_score = 0\n",
    "    if MAP < 3:\n",
    "        cardiovascular_score = 1\n",
    "\n",
    "    respitory_score = 0\n",
    "    if p_f_ratio == 0:\n",
    "        respitory_score = 4\n",
    "    elif p_f_ratio == 1:\n",
    "        respitory_score = 3\n",
    "    elif p_f_ratio == 2:\n",
    "        respitory_score = 2\n",
    "    else:\n",
    "        respitory_score = 1\n",
    "\n",
    "    renal_score = serum_creatinine\n",
    "\n",
    "    if urine == 1:\n",
    "        renal_score = max(renal_score, 3)\n",
    "    if urine == 0:\n",
    "        renal_score = max(renal_score, 4)\n",
    "\n",
    "    liver_score = 0\n",
    "    if (ALT > 0 and AST > 0):\n",
    "        liver_score = 1\n",
    "    if (ALT > 1 or AST > 1):\n",
    "        liver_score = 2\n",
    "    if (ALT > 2 or AST > 2):\n",
    "        liver_score = 3\n",
    "\n",
    "    neuro_score = 0\n",
    "    if GCS_total == 0:\n",
    "        neuro_score = 4\n",
    "    elif GCS_total == 1:\n",
    "        neuro_score = 3\n",
    "    elif GCS_total  == 2:\n",
    "        neuro_score = 2\n",
    "    elif GCS_total == 3:\n",
    "        neuro_score = 1\n",
    "\n",
    "    lactic_acid_score = 0\n",
    "    if lactic_acid > 0:\n",
    "        lactic_acid_score = 2\n",
    "\n",
    "    return cardiovascular_score + respitory_score + renal_score + liver_score + neuro_score + lactic_acid_score\n"
   ]
  },
  {
   "cell_type": "code",
   "execution_count": null,
   "metadata": {
    "id": "dz5wtYS5-Kt-"
   },
   "outputs": [],
   "source": [
    "def create_transitions(df):\n",
    "    X = []\n",
    "    y = []\n",
    "    patients = df['PatientID'].unique()\n",
    "\n",
    "    for patient in patients:\n",
    "        patient_records = df[df['PatientID'] == patient].reset_index(drop=True)\n",
    "        for i in range(len(patient_records) - 1):\n",
    "            current_state = patient_records.iloc[i][state_columns]\n",
    "            next_state = patient_records.iloc[i + 1][state_columns]\n",
    "            action = patient_records.iloc[i][action_columns]\n",
    "            X.append(np.concatenate([current_state, action]))\n",
    "            y.append(next_state)\n",
    "    return pd.DataFrame(X, columns=state_columns + action_columns), pd.DataFrame(y, columns=state_columns)\n",
    "\n",
    "X, y = create_transitions(train_df)"
   ]
  },
  {
   "cell_type": "code",
   "execution_count": null,
   "metadata": {
    "colab": {
     "base_uri": "https://localhost:8080/"
    },
    "id": "XAZfolDIAS7J",
    "outputId": "66e9608d-a45d-493a-cc99-a13a22da089e"
   },
   "outputs": [
    {
     "name": "stdout",
     "output_type": "stream",
     "text": [
      "Accuracy for predicting MAP: 0.51\n",
      "Accuracy for predicting diastolic_bp: 0.69\n",
      "Accuracy for predicting systolic_bp: 0.67\n",
      "Accuracy for predicting urine: 0.71\n",
      "Accuracy for predicting ALT: 0.81\n",
      "Accuracy for predicting AST: 0.80\n",
      "Accuracy for predicting lactic_acid: 0.93\n",
      "Accuracy for predicting serum_creatinine: 0.85\n",
      "Accuracy for predicting p_f_ratio: 0.63\n",
      "Accuracy for predicting GCS_total: 0.89\n"
     ]
    }
   ],
   "source": [
    "#use K nearest neighbours to calculate next state prediction (function approximation for transitions)\n",
    "X_train, X_test, y_train, y_test = train_test_split(X, y, test_size=0.2, random_state=42)\n",
    "knn_models = {col: KNeighborsClassifier(n_neighbors=20) for col in state_columns}\n",
    "\n",
    "for col in state_columns:\n",
    "    knn_models[col].fit(X_train, y_train[col])\n",
    "\n",
    "#evaluate accuracy\n",
    "predictions = pd.DataFrame()\n",
    "for col in state_columns:\n",
    "    predictions[col] = knn_models[col].predict(X_test)\n",
    "    accuracy = accuracy_score(y_test[col], predictions[col])\n",
    "    print(f\"Accuracy for predicting {col}: {accuracy:.2f}\")"
   ]
  },
  {
   "cell_type": "code",
   "execution_count": null,
   "metadata": {
    "colab": {
     "base_uri": "https://localhost:8080/"
    },
    "id": "PLYbPOHwjng2",
    "outputId": "05924e10-6e1f-46d8-8890-8b2e019da219"
   },
   "outputs": [
    {
     "name": "stdout",
     "output_type": "stream",
     "text": [
      "tensor(1.3389, grad_fn=<NllLossBackward0>)\n",
      "tensor(1.2194, grad_fn=<NllLossBackward0>)\n",
      "tensor(1.1909, grad_fn=<NllLossBackward0>)\n",
      "tensor(1.1851, grad_fn=<NllLossBackward0>)\n",
      "tensor(1.1834, grad_fn=<NllLossBackward0>)\n",
      "tensor(1.1827, grad_fn=<NllLossBackward0>)\n",
      "tensor(1.1823, grad_fn=<NllLossBackward0>)\n",
      "tensor(1.1821, grad_fn=<NllLossBackward0>)\n",
      "tensor(1.1820, grad_fn=<NllLossBackward0>)\n",
      "tensor(1.1819, grad_fn=<NllLossBackward0>)\n",
      "Accuracy for MAP: 51.81%\n"
     ]
    }
   ],
   "source": [
    "import torch\n",
    "import torch.nn as nn\n",
    "import torch.optim as optim\n",
    "from sklearn.preprocessing import StandardScaler, LabelEncoder\n",
    "from sklearn.metrics import accuracy_score\n",
    "import pandas as pd\n",
    "import numpy as np\n",
    "\n",
    "columns = ['MAP', 'diastolic_bp', 'systolic_bp', 'urine', 'ALT', 'AST',\n",
    "           'lactic_acid', 'serum_creatinine', 'p_f_ratio', 'GCS_total']\n",
    "context_features = ['fluid_boluses', 'vasopressors']\n",
    "results = {}\n",
    "\n",
    "class NeuralNet(nn.Module):\n",
    "    def __init__(self, input_size, output_size):\n",
    "        super(NeuralNet, self).__init__()\n",
    "        self.fc1 = nn.Linear(input_size, 128)\n",
    "        self.fc2 = nn.Linear(128, 64)\n",
    "        self.fc3 = nn.Linear(64, output_size)\n",
    "        self.relu = nn.ReLU()\n",
    "\n",
    "    def forward(self, x):\n",
    "        x = self.relu(self.fc1(x))\n",
    "        x = self.relu(self.fc2(x))\n",
    "        x = self.fc3(x)\n",
    "        return x\n",
    "\n",
    "for target_col in columns:\n",
    "    X_train_col = X_train[[target_col] + context_features]\n",
    "    X_test_col = X_test[[target_col] + context_features]\n",
    "    y_train_col = y_train[[target_col]]\n",
    "    y_test_col = y_test[[target_col]]\n",
    "\n",
    "    label_encoder = LabelEncoder()\n",
    "    y_train_encoded = label_encoder.fit_transform(y_train_col.values.ravel())\n",
    "    y_test_encoded = label_encoder.transform(y_test_col.values.ravel())\n",
    "    num_classes = len(label_encoder.classes_)\n",
    "\n",
    "    X_train_tensor = torch.tensor(X_train_col.values, dtype=torch.float32)\n",
    "    X_test_tensor = torch.tensor(X_test_col.values, dtype=torch.float32)\n",
    "    y_train_tensor = torch.tensor(y_train_encoded, dtype=torch.long)\n",
    "    y_test_tensor = torch.tensor(y_test_encoded, dtype=torch.long)\n",
    "\n",
    "    model = NeuralNet(input_size=X_train_tensor.shape[1], output_size=num_classes)\n",
    "    criterion = nn.CrossEntropyLoss()\n",
    "    optimizer = optim.Adam(model.parameters(), lr=0.0005)\n",
    "\n",
    "    num_epochs = 100\n",
    "    for epoch in range(num_epochs):\n",
    "        model.train()\n",
    "        optimizer.zero_grad()\n",
    "        outputs = model(X_train_tensor)\n",
    "        loss = criterion(outputs, y_train_tensor)\n",
    "        loss.backward()\n",
    "        optimizer.step()\n",
    "        if epoch % 10 == 0:\n",
    "            print(loss)\n",
    "\n",
    "    model.eval()\n",
    "    with torch.no_grad():\n",
    "        predictions = model(X_test_tensor)\n",
    "        _, predicted_classes = torch.max(predictions, 1)\n",
    "        accuracy = accuracy_score(y_test_tensor.numpy(), predicted_classes.numpy()) * 100\n",
    "\n",
    "        results[target_col] = accuracy\n",
    "    break\n",
    "\n",
    "for col, accuracy in results.items():\n",
    "    print(f\"Accuracy for {col}: {accuracy:.2f}%\")\n"
   ]
  },
  {
   "cell_type": "code",
   "execution_count": null,
   "metadata": {
    "id": "hhXfMrHCCLvL"
   },
   "outputs": [],
   "source": [
    "def return_state_action_df(row, fluid, vaso):\n",
    "    state_action = {\n",
    "        'MAP': row['MAP'].item(),\n",
    "        'diastolic_bp': row['diastolic_bp'].item(),\n",
    "        'systolic_bp': row['systolic_bp'].item(),\n",
    "        'urine': row['urine'].item(),\n",
    "        'ALT': row['ALT'].item(),\n",
    "        'AST': row['AST'].item(),\n",
    "        'lactic_acid': row['lactic_acid'].item(),\n",
    "        'serum_creatinine': row['serum_creatinine'].item(),\n",
    "        'p_f_ratio':row['p_f_ratio'].item(),\n",
    "        'GCS_total': row['GCS_total'].item(),\n",
    "        'fluid_boluses': fluid,\n",
    "        'vasopressors': vaso\n",
    "    }\n",
    "    return pd.DataFrame([state_action])"
   ]
  },
  {
   "cell_type": "code",
   "execution_count": null,
   "metadata": {
    "id": "UAcGYuWgAYWw"
   },
   "outputs": [],
   "source": [
    "def clinician_cumulative_reward(df):\n",
    "    patients = df['PatientID'].unique()\n",
    "    total_cumulative_reward = 0\n",
    "    rewards = []\n",
    "    for patient in patients:\n",
    "        patient_records = df[df['PatientID'] == patient].reset_index(drop=True)\n",
    "        for i in range(len(patient_records) - 1):\n",
    "            current_state = patient_records.iloc[i][state_columns]\n",
    "            next_state = patient_records.iloc[i + 1][state_columns]\n",
    "            #action = patient_records.iloc[i][action_columns]\n",
    "            cur_sofa = calculate_sofa_score(*current_state)\n",
    "            next_sofa = calculate_sofa_score(*next_state)\n",
    "            reward = calculate_reward(cur_sofa, next_sofa, current_state['MAP'], next_state['MAP'])\n",
    "            rewards.append(reward)\n",
    "            total_cumulative_reward += reward\n",
    "    return total_cumulative_reward, rewards"
   ]
  },
  {
   "cell_type": "code",
   "execution_count": null,
   "metadata": {
    "colab": {
     "base_uri": "https://localhost:8080/"
    },
    "id": "XBfDpg1cCqTT",
    "outputId": "83d377b5-94d6-4bd8-f991-feeb3e3473db"
   },
   "outputs": [
    {
     "name": "stdout",
     "output_type": "stream",
     "text": [
      "total cumulative reward (clinician) per patient with SOFA score reward: -2.7210038363172044\n"
     ]
    }
   ],
   "source": [
    "r1, rl1 = clinician_cumulative_reward(test_df)\n",
    "print(\"total cumulative reward (clinician) per patient with SOFA score reward:\", r1 / 782)\n"
   ]
  },
  {
   "cell_type": "code",
   "execution_count": null,
   "metadata": {
    "id": "hBUNRxSlBWCy"
   },
   "outputs": [],
   "source": [
    "def no_action_cumulative_reward(df):\n",
    "    patients = df['PatientID'].unique()\n",
    "    total_cumulative_reward = 0\n",
    "    #rewards = []\n",
    "    j = 0\n",
    "    for patient in patients:\n",
    "        #print(patient)\n",
    "        if j % 20 == 0:\n",
    "            print(j)\n",
    "        j+=1\n",
    "        patient_records = df[df['PatientID'] == patient].reset_index(drop=True)\n",
    "        current_state = patient_records.iloc[0][state_columns].tolist()\n",
    "\n",
    "        for i in range(len(patient_records) - 1):\n",
    "            predicted_next_state = pd.DataFrame()\n",
    "            input_data = current_state + [0,0]\n",
    "            input_data_df = pd.DataFrame([input_data], columns=['MAP', 'diastolic_bp', 'systolic_bp', 'urine', 'ALT', 'AST', 'lactic_acid', 'serum_creatinine', 'p_f_ratio', 'GCS_total', 'fluid_boluses', 'vasopressors'])\n",
    "            for col in state_columns:\n",
    "                predicted_next_state[col] = knn_models[col].predict(input_data_df)\n",
    "            next_state = predicted_next_state.iloc[0].tolist()\n",
    "            cur_sofa = calculate_sofa_score(*current_state)\n",
    "            next_sofa = calculate_sofa_score(*next_state)\n",
    "\n",
    "            cur_map = current_state[0]\n",
    "            next_map = next_state[0]\n",
    "\n",
    "            reward = calculate_reward(cur_sofa, next_sofa, cur_map, next_map)\n",
    "            #rewards.append(reward)\n",
    "            total_cumulative_reward += reward\n",
    "            current_state = next_state\n",
    "    return total_cumulative_reward#, rewards"
   ]
  },
  {
   "cell_type": "code",
   "execution_count": null,
   "metadata": {
    "colab": {
     "base_uri": "https://localhost:8080/"
    },
    "id": "dtDTjXxuEBzF",
    "outputId": "e1863341-1153-4979-f6f3-cd0e963ddc07"
   },
   "outputs": [
    {
     "name": "stdout",
     "output_type": "stream",
     "text": [
      "0\n",
      "20\n",
      "40\n",
      "60\n",
      "80\n",
      "100\n",
      "120\n",
      "140\n",
      "160\n",
      "180\n",
      "200\n",
      "220\n",
      "240\n",
      "260\n",
      "280\n",
      "300\n",
      "320\n",
      "340\n",
      "360\n",
      "380\n",
      "400\n",
      "420\n",
      "440\n",
      "460\n",
      "480\n",
      "500\n",
      "520\n",
      "540\n",
      "560\n",
      "580\n",
      "600\n",
      "620\n",
      "640\n",
      "660\n",
      "680\n",
      "700\n",
      "720\n",
      "740\n",
      "760\n",
      "780\n",
      "total cumulative reward (no action) per patient with SOFA score reward: -1.9382352941180303\n"
     ]
    }
   ],
   "source": [
    "r2 = no_action_cumulative_reward(test_df)\n",
    "print(\"total cumulative reward (no action) per patient with SOFA score reward:\", r2 / 782)\n"
   ]
  },
  {
   "cell_type": "code",
   "execution_count": null,
   "metadata": {
    "colab": {
     "base_uri": "https://localhost:8080/"
    },
    "id": "Wnvmqp-_I4MW",
    "outputId": "1085ddc8-71dd-4ea9-8345-94895eaf6430"
   },
   "outputs": [],
   "source": [
    "#read trained q table\n",
    "q_table_df = pd.read_csv('q_table_trained.csv', index_col=0)\n",
    "q_table = q_table_df.values\n",
    "print(q_table)"
   ]
  },
  {
   "cell_type": "code",
   "execution_count": null,
   "metadata": {
    "id": "nz9_hOvAIT5O"
   },
   "outputs": [],
   "source": [
    "inverse_action_dict = {v: k for k, v in action_dict.items()}\n",
    "\n",
    "def select_optimal_action(state_index, q_table):\n",
    "    best_action_index = np.argmax(q_table[state_index]).item()\n",
    "    best_action = inverse_action_dict[best_action_index]\n",
    "    return best_action\n",
    "\n",
    "def dynaq_action_cumulative_reward(df):\n",
    "    patients = df['PatientID'].unique()\n",
    "    total_cumulative_reward = 0\n",
    "    #rewards = []\n",
    "    j = 0\n",
    "    for patient in patients:\n",
    "        #print(patient)\n",
    "        if j % 20 == 0:\n",
    "            print(j)\n",
    "        j+=1\n",
    "        patient_records = df[df['PatientID'] == patient].reset_index(drop=True)\n",
    "        current_state = patient_records.iloc[0][state_columns].tolist()\n",
    "\n",
    "        for i in range(len(patient_records) - 1):\n",
    "            predicted_next_state = pd.DataFrame()\n",
    "            cur_state_idx = state_dict[tuple(current_state)]\n",
    "            fluid, vaso = select_optimal_action(cur_state_idx, q_table)\n",
    "            input_data = current_state + [fluid, vaso]\n",
    "            input_data_df = pd.DataFrame([input_data], columns=['MAP', 'diastolic_bp', 'systolic_bp', 'urine', 'ALT', 'AST', 'lactic_acid', 'serum_creatinine', 'p_f_ratio', 'GCS_total', 'fluid_boluses', 'vasopressors'])\n",
    "            for col in state_columns:\n",
    "                predicted_next_state[col] = knn_models[col].predict(input_data_df)\n",
    "            next_state = predicted_next_state.iloc[0].tolist()\n",
    "            cur_sofa = calculate_sofa_score(*current_state)\n",
    "            next_sofa = calculate_sofa_score(*next_state)\n",
    "\n",
    "            cur_map = current_state[0]\n",
    "            next_map = next_state[0]\n",
    "\n",
    "            reward = calculate_reward(cur_sofa, next_sofa, cur_map, next_map)\n",
    "            #rewards.append(reward)\n",
    "            total_cumulative_reward += reward\n",
    "            current_state = next_state\n",
    "    return total_cumulative_reward#, rewards"
   ]
  },
  {
   "cell_type": "code",
   "execution_count": null,
   "metadata": {
    "colab": {
     "base_uri": "https://localhost:8080/",
     "height": 321
    },
    "id": "wIGhlwyKKXE9",
    "outputId": "0c106dc7-0bcf-43cc-8d63-b51bb1bb856e"
   },
   "outputs": [],
   "source": [
    "r3 = no_action_cumulative_reward(test_df)\n",
    "print(\"total cumulative reward (dyna-Q policy) per patient with SOFA score reward:\", r3 / 782)"
   ]
  },
  {
   "cell_type": "code",
   "execution_count": null,
   "metadata": {
    "id": "w3iJzGoUKhfk"
   },
   "outputs": [],
   "source": [
    "def find_closest_index(input_tuple):\n",
    "    closest_index = None\n",
    "    min_distance = float('inf')\n",
    "\n",
    "    for value, index in state_dict.items():\n",
    "        distance = np.linalg.norm(np.array(value) - np.array(input_tuple))\n",
    "\n",
    "        if distance < min_distance:\n",
    "            min_distance = distance\n",
    "            closest_index = index\n",
    "\n",
    "    return closest_index\n",
    "\n",
    "def dynaq_action_dist(df):\n",
    "    patients = df['PatientID'].unique()\n",
    "    total_cumulative_reward = 0\n",
    "    maps = []\n",
    "    fluids = []\n",
    "    vasos = []\n",
    "    j = 0\n",
    "    for patient in patients:\n",
    "        #print(patient)\n",
    "        if j % 20 == 0:\n",
    "            print(j)\n",
    "        j+=1\n",
    "        patient_records = df[df['PatientID'] == patient].reset_index(drop=True)\n",
    "\n",
    "\n",
    "        for i in range(len(patient_records) - 1):\n",
    "            current_state = patient_records.iloc[i][state_columns].tolist()\n",
    "            cur_state_idx = state_dict[tuple(current_state)] if tuple(current_state) in state_dict else find_closest_index(tuple(current_state))\n",
    "            fluid, vaso = select_optimal_action(cur_state_idx, q_table)\n",
    "            maps.append(current_state[0])\n",
    "            fluids.append(fluid)\n",
    "            vasos.append(vaso)\n",
    "    return maps, fluids, vasos"
   ]
  },
  {
   "cell_type": "code",
   "execution_count": null,
   "metadata": {
    "id": "k038WREMXxNN"
   },
   "outputs": [],
   "source": [
    "\n",
    "def clinician_action_dist(df):\n",
    "    patients = df['PatientID'].unique()\n",
    "    total_cumulative_reward = 0\n",
    "    maps = []\n",
    "    fluids = []\n",
    "    vasos = []\n",
    "    j = 0\n",
    "    for patient in patients:\n",
    "        #print(patient)\n",
    "        if j % 20 == 0:\n",
    "            print(j)\n",
    "        j+=1\n",
    "        patient_records = df[df['PatientID'] == patient].reset_index(drop=True)\n",
    "\n",
    "\n",
    "        for i in range(len(patient_records) - 1):\n",
    "            #print(patient_records.iloc[i])\n",
    "            current_state = patient_records.iloc[i][state_columns].tolist()\n",
    "            cur_state_idx = state_dict[tuple(current_state)] if tuple(current_state) in state_dict else find_closest_index(tuple(current_state))\n",
    "            action = patient_records.iloc[i][action_columns].tolist()\n",
    "            #print(action)\n",
    "            maps.append(current_state[0])\n",
    "            fluids.append(action[0])\n",
    "            vasos.append(action[1])\n",
    "    return maps, fluids, vasos"
   ]
  },
  {
   "cell_type": "code",
   "execution_count": null,
   "metadata": {
    "colab": {
     "base_uri": "https://localhost:8080/"
    },
    "id": "vdYkL-a-Y2FO",
    "outputId": "8b196699-5ec8-4c08-85c8-99ee197c551c"
   },
   "outputs": [],
   "source": [
    "clinician_map, clinician_fluids, clinician_vasopressors = clinician_action_dist(test_df)"
   ]
  },
  {
   "cell_type": "code",
   "execution_count": null,
   "metadata": {
    "colab": {
     "base_uri": "https://localhost:8080/"
    },
    "id": "9hCzX_xucU5k",
    "outputId": "4739fe9e-431f-4bdf-d572-b8bbd5375f2d"
   },
   "outputs": [
    {
     "name": "stdout",
     "output_type": "stream",
     "text": [
      "10912\n"
     ]
    }
   ],
   "source": [
    "print(len(state_dict))"
   ]
  },
  {
   "cell_type": "code",
   "execution_count": null,
   "metadata": {
    "colab": {
     "base_uri": "https://localhost:8080/"
    },
    "id": "fYtF4r2rKwM5",
    "outputId": "80a92883-3257-40b0-ca11-f577c42ea4dd"
   },
   "outputs": [],
   "source": [
    "dynaq_map, dynaq_fluids, dynaq_vasopressors = dynaq_action_dist(test_df)"
   ]
  },
  {
   "cell_type": "code",
   "execution_count": null,
   "metadata": {
    "id": "X5wf1I_MLxbE"
   },
   "outputs": [],
   "source": [
    "#MAP vs action plot\n",
    "import matplotlib.pyplot as plt\n",
    "import seaborn as sns\n",
    "\n",
    "#dynaq_map = [0,0,1,2,3]\n",
    "#dynaq_fluids = [3,2,0,1,0]\n",
    "#dynaq_vasopressors = [2,1,0,0,0]\n",
    "\n",
    "policy_df = pd.DataFrame()\n",
    "policy_df['MAP_tier'] = dynaq_map\n",
    "policy_df['dynaq_fluid'] = dynaq_fluids\n",
    "policy_df['dynaq_vasopressor'] = dynaq_vasopressors\n",
    "\n",
    "clinician_df = pd.DataFrame()\n",
    "clinician_df['MAP_tier'] = clinician_map\n",
    "clinician_df['clinician_fluid'] = clinician_fluids\n",
    "clinician_df['clinician_vasopressor'] = clinician_vasopressors\n",
    "\n",
    "clinician_action_counts = clinician_df.groupby([\"MAP_tier\", \"clinician_fluid\", \"clinician_vasopressor\"]).size().reset_index(name=\"clinician_count\")\n",
    "\n",
    "dynaq_action_counts = policy_df.groupby([\"MAP_tier\", \"dynaq_fluid\", \"dynaq_vasopressor\"]).size().reset_index(name=\"dynaq_count\")\n",
    "\n",
    "def get_action_proportion(action_count_df, policy, action_name):\n",
    "    counts = action_count_df.groupby([\"MAP_tier\", f\"{policy}_{action_name}\"])[f\"{policy}_count\"].sum()\n",
    "    print(counts)\n",
    "    proportions = counts.groupby(level=0, group_keys=False).apply(lambda x: x / x.sum()).reset_index(name='Proportion of Actions')\n",
    "\n",
    "    proportions = proportions.rename(columns={f\"{policy}_{action_name}\": action_name})\n",
    "    print(proportions)\n",
    "    return proportions"
   ]
  },
  {
   "cell_type": "code",
   "execution_count": null,
   "metadata": {
    "id": "3hjT0aBlUy1C"
   },
   "outputs": [],
   "source": [
    "fluid_palette = sns.color_palette(\"Blues\", n_colors=4)\n",
    "vaso_palette = sns.color_palette(\"Reds\", n_colors=4)"
   ]
  },
  {
   "cell_type": "code",
   "execution_count": null,
   "metadata": {
    "colab": {
     "base_uri": "https://localhost:8080/"
    },
    "id": "mJps9INwZgqq",
    "outputId": "8375e396-703e-4b29-c1d9-3062a3917369"
   },
   "outputs": [
    {
     "name": "stdout",
     "output_type": "stream",
     "text": [
      "MAP_tier  dynaq_fluid\n",
      "0         0              3859\n",
      "          1               185\n",
      "          2               277\n",
      "          3               463\n",
      "1         0              4096\n",
      "          1               400\n",
      "          2               341\n",
      "          3               521\n",
      "2         0              4382\n",
      "          1              1059\n",
      "          2               907\n",
      "          3              1449\n",
      "3         0              6316\n",
      "          1              3224\n",
      "          2              3987\n",
      "          3              5288\n",
      "Name: dynaq_count, dtype: int64\n",
      "    MAP_tier  fluid  Proportion of Actions\n",
      "0          0      0               0.806647\n",
      "1          0      1               0.038671\n",
      "2          0      2               0.057901\n",
      "3          0      3               0.096781\n",
      "4          1      0               0.764464\n",
      "5          1      1               0.074655\n",
      "6          1      2               0.063643\n",
      "7          1      3               0.097238\n",
      "8          2      0               0.562011\n",
      "9          2      1               0.135821\n",
      "10         2      2               0.116327\n",
      "11         2      3               0.185841\n",
      "12         3      0               0.335690\n",
      "13         3      1               0.171353\n",
      "14         3      2               0.211905\n",
      "15         3      3               0.281052\n",
      "MAP_tier  dynaq_vasopressor\n",
      "0         0                    2923\n",
      "          1                     921\n",
      "          2                     459\n",
      "          3                     481\n",
      "1         0                    2666\n",
      "          1                    1246\n",
      "          2                     546\n",
      "          3                     900\n",
      "2         0                    3630\n",
      "          1                    1373\n",
      "          2                     770\n",
      "          3                    2024\n",
      "3         0                    6159\n",
      "          1                    4640\n",
      "          2                    3995\n",
      "          3                    4021\n",
      "Name: dynaq_count, dtype: int64\n",
      "    MAP_tier  vasopressor  Proportion of Actions\n",
      "0          0            0               0.610995\n",
      "1          0            1               0.192517\n",
      "2          0            2               0.095945\n",
      "3          0            3               0.100543\n",
      "4          1            0               0.497574\n",
      "5          1            1               0.232549\n",
      "6          1            2               0.101904\n",
      "7          1            3               0.167973\n",
      "8          2            0               0.465564\n",
      "9          2            1               0.176093\n",
      "10         2            2               0.098756\n",
      "11         2            3               0.259587\n",
      "12         3            0               0.327345\n",
      "13         3            1               0.246612\n",
      "14         3            2               0.212331\n",
      "15         3            3               0.213712\n"
     ]
    }
   ],
   "source": [
    "dynaq_fluid_proportions = get_action_proportion(dynaq_action_counts, \"dynaq\", \"fluid\")\n",
    "dynaq_vaso_proportions = get_action_proportion(dynaq_action_counts, \"dynaq\", \"vasopressor\")\n",
    "\n"
   ]
  },
  {
   "cell_type": "code",
   "execution_count": null,
   "metadata": {
    "colab": {
     "base_uri": "https://localhost:8080/"
    },
    "id": "gTZQkWMidYrl",
    "outputId": "15339096-8ab6-4a70-a859-aa2bc160cfcd"
   },
   "outputs": [
    {
     "name": "stdout",
     "output_type": "stream",
     "text": [
      "MAP_tier  clinician_fluid\n",
      "0         0                   4517\n",
      "          1                     18\n",
      "          2                    150\n",
      "          3                     99\n",
      "1         0                   5131\n",
      "          1                     26\n",
      "          2                    136\n",
      "          3                     65\n",
      "2         0                   7594\n",
      "          1                     27\n",
      "          2                    105\n",
      "          3                     71\n",
      "3         0                  18478\n",
      "          1                     46\n",
      "          2                    163\n",
      "          3                    128\n",
      "Name: clinician_count, dtype: int64\n",
      "    MAP_tier  fluid  Proportion of Actions\n",
      "0          0      0               0.944189\n",
      "1          0      1               0.003763\n",
      "2          0      2               0.031355\n",
      "3          0      3               0.020694\n",
      "4          1      0               0.957633\n",
      "5          1      1               0.004853\n",
      "6          1      2               0.025383\n",
      "7          1      3               0.012131\n",
      "8          2      0               0.973964\n",
      "9          2      1               0.003463\n",
      "10         2      2               0.013467\n",
      "11         2      3               0.009106\n",
      "12         3      0               0.982089\n",
      "13         3      1               0.002445\n",
      "14         3      2               0.008663\n",
      "15         3      3               0.006803\n",
      "MAP_tier  clinician_vasopressor\n",
      "0         0                         4030\n",
      "          1                          413\n",
      "          2                          230\n",
      "          3                          111\n",
      "1         0                         4532\n",
      "          1                          438\n",
      "          2                          198\n",
      "          3                          190\n",
      "2         0                         6577\n",
      "          1                          660\n",
      "          2                          250\n",
      "          3                          310\n",
      "3         0                        16008\n",
      "          1                         1457\n",
      "          2                          630\n",
      "          3                          720\n",
      "Name: clinician_count, dtype: int64\n",
      "    MAP_tier  vasopressor  Proportion of Actions\n",
      "0          0            0               0.842391\n",
      "1          0            1               0.086329\n",
      "2          0            2               0.048077\n",
      "3          0            3               0.023202\n",
      "4          1            0               0.845838\n",
      "5          1            1               0.081747\n",
      "6          1            2               0.036954\n",
      "7          1            3               0.035461\n",
      "8          2            0               0.843530\n",
      "9          2            1               0.084648\n",
      "10         2            2               0.032064\n",
      "11         2            3               0.039759\n",
      "12         3            0               0.850811\n",
      "13         3            1               0.077438\n",
      "14         3            2               0.033484\n",
      "15         3            3               0.038267\n"
     ]
    }
   ],
   "source": [
    "clinician_fluid_proportions = get_action_proportion(clinician_action_counts, \"clinician\", \"fluid\")\n",
    "clinician_vaso_proportions = get_action_proportion(clinician_action_counts, \"clinician\", \"vasopressor\")\n"
   ]
  },
  {
   "cell_type": "code",
   "execution_count": null,
   "metadata": {
    "colab": {
     "base_uri": "https://localhost:8080/",
     "height": 547
    },
    "id": "DKIGUFD-K4DW",
    "outputId": "37e37000-f88b-47be-c3eb-da3cff46217a"
   },
   "outputs": [],
   "source": [
    "\n",
    "#map MAP and actions from 0,1,2,3 to text\n",
    "fluid_bolus_order = {0: \"[0, 250)\", 1: \"[250, 500)\", 2: \"[500, 1000)\", 3: \">= 1000\"}\n",
    "vasopressor_order = {0: \"0\", 1: \"(0, 8.4)\", 2: \"[8.4, 20.28)\", 3: \">= 20.28\"}\n",
    "map_tier_order = bl = {0: \"<55\", 1: \"55-60\", 2: \"60-65\", 3: \">65\"}\n",
    "dynaq_fluid_proportions['Fluid Boluses'] = dynaq_fluid_proportions['fluid'].map(fluid_bolus_order)\n",
    "dynaq_fluid_proportions['MAP Tier'] = dynaq_fluid_proportions['MAP_tier'].map(map_tier_order)\n",
    "dynaq_vaso_proportions['Vasopressors'] = dynaq_vaso_proportions['vasopressor'].map(vasopressor_order)\n",
    "dynaq_vaso_proportions['MAP Tier'] = dynaq_vaso_proportions['MAP_tier'].map(map_tier_order)\n",
    "dynaq_fluid_proportions.drop('fluid', axis='columns', inplace=True)\n",
    "dynaq_vaso_proportions.drop('vasopressor', axis='columns', inplace=True)\n",
    "\n",
    "\n",
    "\n",
    "clinician_fluid_proportions['Fluid Boluses'] = clinician_fluid_proportions['fluid'].map(fluid_bolus_order)\n",
    "clinician_fluid_proportions['MAP Tier'] = clinician_fluid_proportions['MAP_tier'].map(map_tier_order)\n",
    "clinician_vaso_proportions['Vasopressors'] = clinician_vaso_proportions['vasopressor'].map(vasopressor_order)\n",
    "clinician_vaso_proportions['MAP Tier'] = clinician_vaso_proportions['MAP_tier'].map(map_tier_order)\n",
    "clinician_fluid_proportions.drop('fluid', axis='columns', inplace=True)\n",
    "clinician_vaso_proportions.drop('vasopressor', axis='columns', inplace=True)\n",
    "\n"
   ]
  },
  {
   "cell_type": "code",
   "execution_count": null,
   "metadata": {
    "colab": {
     "base_uri": "https://localhost:8080/",
     "height": 882
    },
    "id": "3TcqbSrwfdDV",
    "outputId": "bee72c69-69ef-4299-ac97-08ae3ddd26f5"
   },
   "outputs": [
    {
     "data": {
      "text/plain": [
       "(0.0, 1.0)"
      ]
     },
     "execution_count": 191,
     "metadata": {},
     "output_type": "execute_result"
    },
    {
     "data": {
      "image/png": "[encoded data removed]",
      "text/plain": [
       "<Figure size 2000x1000 with 8 Axes>"
      ]
     },
     "metadata": {},
     "output_type": "display_data"
    }
   ],
   "source": [
    "#Dyna-Q - Fluid Boluse\n",
    "#print(dynaq_fluid_proportions)\n",
    "fig, axes = plt.subplots(nrows=2, ncols=4, figsize=(20, 10), sharey='row')\n",
    "\n",
    "sns.barplot(data=dynaq_fluid_proportions, x='MAP Tier', y='Proportion of Actions', hue='Fluid Boluses',\n",
    "            palette=sns.color_palette(\"Blues\", n_colors=4), ax=axes[0,1], legend=None)\n",
    "axes[0,1].set_title(f\"DynaQ (SOFA-Based Reward) - Fluid Boluses\")\n",
    "plt.ylim(0, 1)\n",
    "\n",
    "sns.barplot(data=dynaq_vaso_proportions, x='MAP Tier', y='Proportion of Actions', hue='Vasopressors',\n",
    "                palette=sns.color_palette(\"Reds\", n_colors=4), ax=axes[1,1], legend=None)\n",
    "axes[1,1].set_title(f\"DynaQ (SOFA-Based Reward) - Vasopressors\")\n",
    "plt.ylim(0, 1)\n",
    "\n",
    "sns.barplot(data=clinician_fluid_proportions, x='MAP Tier', y='Proportion of Actions', hue='Fluid Boluses',\n",
    "            palette=sns.color_palette(\"Blues\", n_colors=4), ax=axes[0,0], legend=None)\n",
    "axes[0,0].set_title(f\"Clinician - Fluid Boluses\")\n",
    "plt.ylim(0, 1)\n",
    "\n",
    "sns.barplot(data=clinician_vaso_proportions, x='MAP Tier', y='Proportion of Actions', hue='Vasopressors',\n",
    "                palette=sns.color_palette(\"Reds\", n_colors=4), ax=axes[1,0], legend=None)\n",
    "axes[1,0].set_title(f\"Clinician - Vasopressors\")\n",
    "plt.ylim(0, 1)\n",
    "\n"
   ]
  },
  {
   "cell_type": "code",
   "execution_count": null,
   "metadata": {
    "colab": {
     "base_uri": "https://localhost:8080/",
     "height": 424
    },
    "id": "k0d3GAg5f_WT",
    "outputId": "adc889a6-6701-4c3e-8177-37c2838853e4"
   },
   "outputs": [
    {
     "data": {
      "image/png": "[encoded data removed]",
      "text/plain": [
       "<Figure size 500x400 with 2 Axes>"
      ]
     },
     "metadata": {},
     "output_type": "display_data"
    },
    {
     "data": {
      "text/plain": [
       "<Figure size 640x480 with 0 Axes>"
      ]
     },
     "metadata": {},
     "output_type": "display_data"
    }
   ],
   "source": [
    "#plot action heatmap\n",
    "#dynaq_actions = [0,1,4,2,5,3,15]\n",
    "action_count_matrix = np.zeros((4, 4))\n",
    "for i in range(len(dynaq_fluids)):\n",
    "    fluid = dynaq_fluids[i]\n",
    "    vaso = dynaq_vasopressors[i]\n",
    "    action_count_matrix[fluid,vaso] += 1\n",
    "action_distribution_dynaq = action_count_matrix / len(dynaq_fluids)\n",
    "#fluid_categories = ['0', '250', '500', '1000']\n",
    "#vasopressor_categories = ['0', '1e-6', '8.4', '20.28']\n",
    "fluid_categories = ['[0, 250)', '[250, 500)', '[500, 1000)', '>= 1000']  # Sorted fluid boluses\n",
    "vasopressor_categories = ['0', '(0, 8.4)', '[8.4, 20.28)', '>= 20.28']  # Sorted vasopressors\n",
    "plt.figure(figsize=(5, 4))\n",
    "sns.heatmap(action_distribution_dynaq, annot=True, cmap=\"Blues\", xticklabels=fluid_categories, yticklabels=vasopressor_categories)\n",
    "plt.title('Dyna-Q Policy (SOFA-Based Reward)')\n",
    "plt.xlabel('Fluid Boluses', fontsize=11)\n",
    "plt.ylabel('Vasopressors', fontsize=11)\n",
    "plt.tick_params(labelsize=9)\n",
    "plt.tight_layout()\n",
    "plt.show()\n",
    "plt.savefig('heatmap.png')"
   ]
  },
  {
   "cell_type": "code",
   "execution_count": null,
   "metadata": {
    "id": "w4QJLG7pjgO1"
   },
   "outputs": [],
   "source": [
    "#plot action heatmap\n",
    "#dynaq_actions = [0,1,4,2,5,3,15]\n",
    "action_count_matrix = np.zeros((4, 4))\n",
    "for i in range(len(dynaq_fluids)):\n",
    "    fluid = dynaq_fluids[i]\n",
    "    vaso = dynaq_vasopressors[i]\n",
    "    action_count_matrix[fluid,vaso] += 1\n",
    "action_distribution_dynaq = action_count_matrix / len(dynaq_fluids)\n",
    "#fluid_categories = ['0', '250', '500', '1000']\n",
    "#vasopressor_categories = ['0', '1e-6', '8.4', '20.28']\n",
    "fluid_categories = ['[0, 250)', '[250, 500)', '[500, 1000)', '>= 1000']  # Sorted fluid boluses\n",
    "vasopressor_categories = ['0', '(0, 8.4)', '[8.4, 20.28)', '>= 20.28']  # Sorted vasopressors\n",
    "plt.figure(figsize=(5, 4))\n",
    "sns.heatmap(action_distribution_dynaq, annot=True, cmap=\"Blues\", xticklabels=fluid_categories, yticklabels=vasopressor_categories)\n",
    "plt.title('')\n",
    "plt.xlabel('Fluid Boluses', fontsize=11)\n",
    "plt.ylabel('Vasopressors', fontsize=11)\n",
    "plt.tick_params(labelsize=9)\n",
    "plt.tight_layout()\n",
    "plt.show()"
   ]
  },
  {
   "cell_type": "code",
   "execution_count": null,
   "metadata": {
    "colab": {
     "base_uri": "https://localhost:8080/",
     "height": 424
    },
    "id": "Z33JbwjTgEjf",
    "outputId": "f43e9855-766c-44b5-d29e-2f695eff04e6"
   },
   "outputs": [
    {
     "data": {
      "image/png": "[encoded data removed]",
      "text/plain": [
       "<Figure size 500x400 with 2 Axes>"
      ]
     },
     "metadata": {},
     "output_type": "display_data"
    },
    {
     "data": {
      "text/plain": [
       "<Figure size 640x480 with 0 Axes>"
      ]
     },
     "metadata": {},
     "output_type": "display_data"
    }
   ],
   "source": [
    "#plot action heatmap\n",
    "#dynaq_actions = [0,1,4,2,5,3,15]\n",
    "action_count_matrix = np.zeros((4, 4))\n",
    "for i in range(len(clinician_fluids)):\n",
    "    fluid = clinician_fluids[i]\n",
    "    vaso = clinician_vasopressors[i]\n",
    "    action_count_matrix[fluid,vaso] += 1\n",
    "action_distribution_clinician = action_count_matrix / len(clinician_fluids)\n",
    "#fluid_categories = ['0', '250', '500', '1000']\n",
    "#vasopressor_categories = ['0', '1e-6', '8.4', '20.28']\n",
    "fluid_categories = ['[0, 250)', '[250, 500)', '[500, 1000)', '>= 1000']  # Sorted fluid boluses\n",
    "vasopressor_categories = ['0', '(0, 8.4)', '[8.4, 20.28)', '>= 20.28']  # Sorted vasopressors\n",
    "plt.figure(figsize=(5, 4))\n",
    "sns.heatmap(action_distribution_clinician, annot=True, cmap=\"Blues\", xticklabels=fluid_categories, yticklabels=vasopressor_categories)\n",
    "plt.title('Clinician Policy')\n",
    "plt.xlabel('Fluid Boluses', fontsize=11)\n",
    "plt.ylabel('Vasopressors', fontsize=11)\n",
    "plt.tick_params(labelsize=9)\n",
    "plt.tight_layout()\n",
    "plt.show()\n",
    "plt.savefig('heatmap.png')"
   ]
  }
 ],
 "metadata": {
  "colab": {
   "provenance": []
  },
  "kernelspec": {
   "display_name": "Python 3",
   "name": "python3"
  },
  "language_info": {
   "name": "python"
  }
 },
 "nbformat": 4,
 "nbformat_minor": 0
}
